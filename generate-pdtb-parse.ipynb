{
 "cells": [
  {
   "cell_type": "markdown",
   "metadata": {},
   "source": [
    "### how to solve inter hyphen issue https://stackoverflow.com/questions/52293874/why-does-spacy-not-preserve-intra-word-hyphens-during-tokenization-like-stanford"
   ]
  },
  {
   "cell_type": "code",
   "execution_count": 1,
   "metadata": {},
   "outputs": [
    {
     "name": "stderr",
     "output_type": "stream",
     "text": [
      "/home/pengfei/miniconda3/envs/benepar/lib/python3.7/site-packages/tensorflow/python/framework/dtypes.py:516: FutureWarning: Passing (type, 1) or '1type' as a synonym of type is deprecated; in a future version of numpy, it will be understood as (type, (1,)) / '(1,)type'.\n",
      "  _np_qint8 = np.dtype([(\"qint8\", np.int8, 1)])\n",
      "/home/pengfei/miniconda3/envs/benepar/lib/python3.7/site-packages/tensorflow/python/framework/dtypes.py:517: FutureWarning: Passing (type, 1) or '1type' as a synonym of type is deprecated; in a future version of numpy, it will be understood as (type, (1,)) / '(1,)type'.\n",
      "  _np_quint8 = np.dtype([(\"quint8\", np.uint8, 1)])\n",
      "/home/pengfei/miniconda3/envs/benepar/lib/python3.7/site-packages/tensorflow/python/framework/dtypes.py:518: FutureWarning: Passing (type, 1) or '1type' as a synonym of type is deprecated; in a future version of numpy, it will be understood as (type, (1,)) / '(1,)type'.\n",
      "  _np_qint16 = np.dtype([(\"qint16\", np.int16, 1)])\n",
      "/home/pengfei/miniconda3/envs/benepar/lib/python3.7/site-packages/tensorflow/python/framework/dtypes.py:519: FutureWarning: Passing (type, 1) or '1type' as a synonym of type is deprecated; in a future version of numpy, it will be understood as (type, (1,)) / '(1,)type'.\n",
      "  _np_quint16 = np.dtype([(\"quint16\", np.uint16, 1)])\n",
      "/home/pengfei/miniconda3/envs/benepar/lib/python3.7/site-packages/tensorflow/python/framework/dtypes.py:520: FutureWarning: Passing (type, 1) or '1type' as a synonym of type is deprecated; in a future version of numpy, it will be understood as (type, (1,)) / '(1,)type'.\n",
      "  _np_qint32 = np.dtype([(\"qint32\", np.int32, 1)])\n",
      "/home/pengfei/miniconda3/envs/benepar/lib/python3.7/site-packages/tensorflow/python/framework/dtypes.py:525: FutureWarning: Passing (type, 1) or '1type' as a synonym of type is deprecated; in a future version of numpy, it will be understood as (type, (1,)) / '(1,)type'.\n",
      "  np_resource = np.dtype([(\"resource\", np.ubyte, 1)])\n",
      "/home/pengfei/miniconda3/envs/benepar/lib/python3.7/site-packages/tensorboard/compat/tensorflow_stub/dtypes.py:541: FutureWarning: Passing (type, 1) or '1type' as a synonym of type is deprecated; in a future version of numpy, it will be understood as (type, (1,)) / '(1,)type'.\n",
      "  _np_qint8 = np.dtype([(\"qint8\", np.int8, 1)])\n",
      "/home/pengfei/miniconda3/envs/benepar/lib/python3.7/site-packages/tensorboard/compat/tensorflow_stub/dtypes.py:542: FutureWarning: Passing (type, 1) or '1type' as a synonym of type is deprecated; in a future version of numpy, it will be understood as (type, (1,)) / '(1,)type'.\n",
      "  _np_quint8 = np.dtype([(\"quint8\", np.uint8, 1)])\n",
      "/home/pengfei/miniconda3/envs/benepar/lib/python3.7/site-packages/tensorboard/compat/tensorflow_stub/dtypes.py:543: FutureWarning: Passing (type, 1) or '1type' as a synonym of type is deprecated; in a future version of numpy, it will be understood as (type, (1,)) / '(1,)type'.\n",
      "  _np_qint16 = np.dtype([(\"qint16\", np.int16, 1)])\n",
      "/home/pengfei/miniconda3/envs/benepar/lib/python3.7/site-packages/tensorboard/compat/tensorflow_stub/dtypes.py:544: FutureWarning: Passing (type, 1) or '1type' as a synonym of type is deprecated; in a future version of numpy, it will be understood as (type, (1,)) / '(1,)type'.\n",
      "  _np_quint16 = np.dtype([(\"quint16\", np.uint16, 1)])\n",
      "/home/pengfei/miniconda3/envs/benepar/lib/python3.7/site-packages/tensorboard/compat/tensorflow_stub/dtypes.py:545: FutureWarning: Passing (type, 1) or '1type' as a synonym of type is deprecated; in a future version of numpy, it will be understood as (type, (1,)) / '(1,)type'.\n",
      "  _np_qint32 = np.dtype([(\"qint32\", np.int32, 1)])\n",
      "/home/pengfei/miniconda3/envs/benepar/lib/python3.7/site-packages/tensorboard/compat/tensorflow_stub/dtypes.py:550: FutureWarning: Passing (type, 1) or '1type' as a synonym of type is deprecated; in a future version of numpy, it will be understood as (type, (1,)) / '(1,)type'.\n",
      "  np_resource = np.dtype([(\"resource\", np.ubyte, 1)])\n"
     ]
    },
    {
     "name": "stdout",
     "output_type": "stream",
     "text": [
      "WARNING:tensorflow:From /home/pengfei/miniconda3/envs/benepar/lib/python3.7/site-packages/benepar/base_parser.py:197: The name tf.GraphDef is deprecated. Please use tf.compat.v1.GraphDef instead.\n",
      "\n",
      "WARNING:tensorflow:From /home/pengfei/miniconda3/envs/benepar/lib/python3.7/site-packages/benepar/base_parser.py:202: The name tf.Session is deprecated. Please use tf.compat.v1.Session instead.\n",
      "\n"
     ]
    }
   ],
   "source": [
    "import re\n",
    "import os\n",
    "import json\n",
    "import spacy\n",
    "import nltk\n",
    "from spacy.tokenizer import Tokenizer\n",
    "from spacy.util import compile_prefix_regex, compile_infix_regex, compile_suffix_regex\n",
    "from benepar.spacy_plugin import BeneparComponent\n",
    "from spacy.tokens import Doc\n",
    "nlp = spacy.load('en')\n",
    "nlp.add_pipe(BeneparComponent('benepar_en2'))"
   ]
  },
  {
   "cell_type": "code",
   "execution_count": 2,
   "metadata": {},
   "outputs": [],
   "source": [
    "# def custom_tokenizer(nlp):\n",
    "# #     infix_re = re.compile(r'''[~-]''')\n",
    "#     infix_re = compile_infix_regex(nlp.Defaults.infixes)\n",
    "#     prefix_re = compile_prefix_regex(nlp.Defaults.prefixes)\n",
    "#     suffix_re = compile_suffix_regex(nlp.Defaults.suffixes)\n",
    "\n",
    "#     return Tokenizer(nlp.vocab, \n",
    "#                      prefix_search=prefix_re.search,\n",
    "#                                 suffix_search=suffix_re.search,\n",
    "#                                 infix_finditer=infix_re.finditer,\n",
    "#                                 token_match=None)\n",
    "\n",
    "\n",
    "def custom_tokenizer(text):\n",
    "    tokens = nltk.word_tokenize(text)\n",
    "    # with this:\n",
    "    return Doc(nlp.vocab, tokens)\n",
    "\n",
    "nlp.tokenizer = custom_tokenizer"
   ]
  },
  {
   "cell_type": "code",
   "execution_count": 3,
   "metadata": {},
   "outputs": [],
   "source": [
    "def get_doc(doc_path):\n",
    "    with open(doc_path) as f:\n",
    "        txt = f.read().replace('\\n', ' ')\n",
    "    doc = nlp(txt)\n",
    "    sentences = []\n",
    "    sent_token_offset = 0\n",
    "    for i, sent in enumerate(doc.sents):\n",
    "        if i == 0: continue\n",
    "        words = []\n",
    "        dependencies = []\n",
    "        count = 0\n",
    "        for word in sent:\n",
    "            charoffsetbegin = word.idx\n",
    "            charoffsetend = word.idx + len(word)\n",
    "            word_pos = word.pos_\n",
    "            word_string = str(word)\n",
    "            if str(word) == '\\\"':\n",
    "                if count % 2 == 0:\n",
    "                    word_string = '``'\n",
    "                else:\n",
    "                    word_string = '\\'\\''\n",
    "            word_combo = [word_string, \n",
    "                          {\"CharacterOffsetBegin\": charoffsetbegin, \n",
    "                                      \"CharacterOffsetEnd\": charoffsetend, \n",
    "                                      \"Linkers\": [], \n",
    "                                      \"PartOfSpeech\": word.pos_}]\n",
    "            words.append(word_combo)\n",
    "\n",
    "            dep_r = word.dep_\n",
    "            parent = str(word.head) + '-' + str(word.head.i - sent_token_offset)\n",
    "            child = str(word) + '-' + str(word.i - sent_token_offset)\n",
    "            dep = [dep_r, parent, child]\n",
    "            dependencies.append(dep)\n",
    "\n",
    "        parsetree = sent._.parse_string\n",
    "        parsetree = re.sub(r'\\(_SP ((.|\\n)*)\\)', '', parsetree)\n",
    "        sentences.append({\"parsetree\": parsetree, \"words\": words, \"dependencies\": dependencies})\n",
    "        sent_token_offset += len(sent)\n",
    "    return sentences"
   ]
  },
  {
   "cell_type": "code",
   "execution_count": 4,
   "metadata": {},
   "outputs": [],
   "source": [
    "folder_path = '/home/pengfei/data/pdtb3-dataset/all/raw/'\n",
    "files = os.listdir(folder_path)\n",
    "all_data = {}\n",
    "files = [f for f in files if f[4:6] in ['00','01','21','22']]"
   ]
  },
  {
   "cell_type": "code",
   "execution_count": null,
   "metadata": {},
   "outputs": [],
   "source": [
    "for f in files:\n",
    "    doc_path = os.path.join(folder_path, f)\n",
    "    doc = get_doc(doc_path)\n",
    "    all_data[f] = {'sentences': doc}"
   ]
  },
  {
   "cell_type": "code",
   "execution_count": null,
   "metadata": {},
   "outputs": [],
   "source": [
    "with open('pdtb-parse.json', 'w') as f:\n",
    "    json.dump(all_data, f)"
   ]
  },
  {
   "cell_type": "code",
   "execution_count": 171,
   "metadata": {},
   "outputs": [],
   "source": [
    "# json_path = '/home/pengfei/data/pdtb3-dataset/all/conll/train/pdtb-parses.json'\n",
    "# with open(json_path,  'r') as f:\n",
    "#     parse_dict = json.load(f)"
   ]
  }
 ],
 "metadata": {
  "kernelspec": {
   "display_name": "Python 3",
   "language": "python",
   "name": "python3"
  },
  "language_info": {
   "codemirror_mode": {
    "name": "ipython",
    "version": 3
   },
   "file_extension": ".py",
   "mimetype": "text/x-python",
   "name": "python",
   "nbconvert_exporter": "python",
   "pygments_lexer": "ipython3",
   "version": "3.7.0"
  }
 },
 "nbformat": 4,
 "nbformat_minor": 2
}
