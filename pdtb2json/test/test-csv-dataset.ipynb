{
 "cells": [
  {
   "cell_type": "code",
   "execution_count": 10,
   "metadata": {},
   "outputs": [],
   "source": [
    "import pandas as pd \n",
    "from collections import defaultdict"
   ]
  },
  {
   "cell_type": "code",
   "execution_count": 44,
   "metadata": {},
   "outputs": [],
   "source": [
    "pdtb3 = pd.read_csv('../pdtb3.csv')"
   ]
  },
  {
   "cell_type": "code",
   "execution_count": 45,
   "metadata": {},
   "outputs": [
    {
     "data": {
      "text/plain": [
       "21782"
      ]
     },
     "execution_count": 45,
     "metadata": {},
     "output_type": "execute_result"
    }
   ],
   "source": [
    "count = 0\n",
    "for i in range(len(pdtb3)):\n",
    "    if pdtb3.loc[i, 'Relation_Type'] == 'Implicit':\n",
    "        count += 1\n",
    "        for o in pdtb3.loc[i,'Arg1_SpanList'].split(';'):\n",
    "            arg1 = o.split('..')\n",
    "            if int(arg1[0]) >= int(arg1[1]):\n",
    "                print('o')\n",
    "        \n",
    "        for o in pdtb3.loc[i,'Arg2_SpanList'].split(';'):\n",
    "            arg2 = o.split('..')\n",
    "            if int(arg2[0]) >= int(arg2[1]):\n",
    "                print('o') \n",
    "count"
   ]
  },
  {
   "cell_type": "markdown",
   "metadata": {},
   "source": [
    "## check csv file"
   ]
  },
  {
   "cell_type": "code",
   "execution_count": 59,
   "metadata": {},
   "outputs": [],
   "source": [
    "import json\n",
    "import codecs"
   ]
  },
  {
   "cell_type": "code",
   "execution_count": 62,
   "metadata": {},
   "outputs": [],
   "source": [
    "relations = [json.loads(o) for o in codecs.open('../pdtb3-relations.json').readlines()]"
   ]
  },
  {
   "cell_type": "code",
   "execution_count": 63,
   "metadata": {},
   "outputs": [
    {
     "name": "stdout",
     "output_type": "stream",
     "text": [
      "21782\n"
     ]
    }
   ],
   "source": [
    "count = 0\n",
    "for o in relations:\n",
    "    if o['Type'] == 'Implicit':\n",
    "        count += 1\n",
    "        arg1 = o['Arg1']['TokenList']\n",
    "        assert( len(arg1) > 0)\n",
    "        arg2 = o['Arg2']['TokenList']\n",
    "        assert( len(arg2) > 0)\n",
    "print(count)"
   ]
  },
  {
   "cell_type": "markdown",
   "metadata": {},
   "source": [
    "## generate ordered csv"
   ]
  },
  {
   "cell_type": "code",
   "execution_count": 18,
   "metadata": {},
   "outputs": [],
   "source": [
    "\n",
    "pdtb3_new = pdtb3.loc[:, 'DocID']\n",
    "\n",
    "d = defaultdict(list)\n",
    "for i in range(len(pdtb3_new)):\n",
    "    d[pdtb3_new.loc[i]].append(i)\n",
    "    \n",
    "\n",
    "keys = sorted(list(d.keys()), key=lambda x: int(x[4:])) \n",
    "new_list = []\n",
    "for k in keys:\n",
    "    new_list.extend(d[k])\n",
    "pdtb3 = pdtb3.loc[new_list, :]\n",
    "pdtb3.to_csv('pdtb3_ordered.csv')"
   ]
  },
  {
   "cell_type": "code",
   "execution_count": 29,
   "metadata": {},
   "outputs": [],
   "source": []
  },
  {
   "cell_type": "code",
   "execution_count": 31,
   "metadata": {},
   "outputs": [],
   "source": []
  }
 ],
 "metadata": {
  "kernelspec": {
   "display_name": "Python 3",
   "language": "python",
   "name": "python3"
  },
  "language_info": {
   "codemirror_mode": {
    "name": "ipython",
    "version": 3
   },
   "file_extension": ".py",
   "mimetype": "text/x-python",
   "name": "python",
   "nbconvert_exporter": "python",
   "pygments_lexer": "ipython3",
   "version": "3.7.0"
  }
 },
 "nbformat": 4,
 "nbformat_minor": 2
}
