{
 "cells": [
  {
   "cell_type": "code",
   "execution_count": 2,
   "metadata": {},
   "outputs": [],
   "source": [
    "import os\n",
    "from pathlib import Path\n",
    "import pandas as pd\n",
    "import json\n",
    "import codecs\n",
    "import numpy as np\n",
    "import re\n",
    "from collections import OrderedDict\n",
    "from collections import Counter\n",
    "import json"
   ]
  },
  {
   "cell_type": "code",
   "execution_count": 7,
   "metadata": {},
   "outputs": [
    {
     "name": "stdout",
     "output_type": "stream",
     "text": [
      "datasets loaded\n"
     ]
    }
   ],
   "source": [
    "conll_train = '/home/pengfei/data/2015-2016_conll_shared_task/data/conll16st-en-03-29-16-train/pdtb-parses.json'\n",
    "parse_dict_train = json.loads(codecs.open(conll_train, encoding='utf-8', errors='ignore').read())\n",
    "conll_dev = '/home/pengfei/data/2015-2016_conll_shared_task/data/conll16st-en-03-29-16-dev/pdtb-parses.json'\n",
    "parse_dict_dev = json.loads(codecs.open(conll_dev, encoding='utf-8', errors='ignore').read())\n",
    "conll_test = '/home/pengfei/data/2015-2016_conll_shared_task/data/conll16st-en-03-29-16-test/pdtb-parses.json'\n",
    "parse_dict_test = json.loads(codecs.open(conll_test, encoding='utf-8', errors='ignore').read())\n",
    "print(\"datasets loaded\")\n",
    "parse_dict = merge3dicts(parse_dict_train, parse_dict_dev, parse_dict_test)"
   ]
  },
  {
   "cell_type": "markdown",
   "metadata": {},
   "source": [
    "## Sense"
   ]
  },
  {
   "cell_type": "code",
   "execution_count": 3,
   "metadata": {},
   "outputs": [],
   "source": [
    "parse_data_path = '../pdtb3.json'\n",
    "parse_data = [json.loads(o) for o in open(parse_data_path).readlines()]"
   ]
  },
  {
   "cell_type": "code",
   "execution_count": 3,
   "metadata": {},
   "outputs": [],
   "source": [
    "counter = Counter([o for relation in parse_data for o in relation['Sense']])"
   ]
  },
  {
   "cell_type": "code",
   "execution_count": 4,
   "metadata": {},
   "outputs": [],
   "source": [
    "sense = list(counter.most_common(100))"
   ]
  },
  {
   "cell_type": "code",
   "execution_count": 5,
   "metadata": {
    "scrolled": true
   },
   "outputs": [
    {
     "data": {
      "text/plain": [
       "{'Expansion.Conjunction': '0',\n",
       " 'Comparison.Concession.Arg2-as-denier': '1',\n",
       " 'EntRel': '2',\n",
       " 'Contingency.Cause.Reason': '3',\n",
       " 'Contingency.Cause.Result': '4',\n",
       " 'Expansion.Level-of-detail.Arg2-as-detail': '5',\n",
       " 'Temporal.Synchronous': '6',\n",
       " 'Comparison.Contrast': '7',\n",
       " 'Temporal.Asynchronous.Precedence': '8',\n",
       " 'Expansion.Instantiation.Arg2-as-instance': '9',\n",
       " 'Contingency.Condition.Arg2-as-cond': '10',\n",
       " 'Contingency.Purpose.Arg2-as-goal': '11',\n",
       " 'Temporal.Asynchronous.Succession': '12',\n",
       " 'Comparison.Concession.Arg1-as-denier': '13',\n",
       " 'Expansion.Manner.Arg2-as-manner': '14',\n",
       " 'Expansion.Manner.Arg1-as-manner': '15',\n",
       " 'Expansion.Substitution.Arg2-as-subst': '16',\n",
       " 'Expansion.Equivalence': '17',\n",
       " 'Expansion.Disjunction': '18',\n",
       " 'Expansion.Level-of-detail.Arg1-as-detail': '19',\n",
       " 'NoRel': '20',\n",
       " 'Comparison.Similarity': '21',\n",
       " 'Contingency.Cause+Belief.Reason+Belief': '22',\n",
       " 'Hypophora': '23',\n",
       " 'Contingency.Purpose.Arg1-as-goal': '24',\n",
       " 'Expansion.Substitution.Arg1-as-subst': '25',\n",
       " 'Contingency.Negative-condition.Arg2-as-negCond': '26',\n",
       " 'Contingency.Condition+SpeechAct': '27',\n",
       " 'Contingency.Cause+Belief.Result+Belief': '28',\n",
       " 'Contingency.Condition.Arg1-as-cond': '29',\n",
       " 'Expansion.Exception.Arg2-as-excpt': '30',\n",
       " 'Comparison.Concession+SpeechAct.Arg2-as-denier+SpeechAct': '31',\n",
       " 'Expansion.Exception.Arg1-as-excpt': '32',\n",
       " 'Contingency.Negative-condition.Arg1-as-negCond': '33',\n",
       " 'Contingency.Cause+SpeechAct.Reason+SpeechAct': '34',\n",
       " 'Contingency.Cause+SpeechAct.Result+SpeechAct': '35',\n",
       " 'Expansion.Instantiation.Arg1-as-instance': '36',\n",
       " 'Contingency.Negative-cause.NegResult': '37'}"
      ]
     },
     "execution_count": 5,
     "metadata": {},
     "output_type": "execute_result"
    }
   ],
   "source": [
    "{o[0]:str(i) for i,o in enumerate(sense)}"
   ]
  },
  {
   "cell_type": "code",
   "execution_count": 6,
   "metadata": {},
   "outputs": [
    {
     "data": {
      "text/plain": [
       "{'0': 'Expansion.Conjunction',\n",
       " '1': 'Comparison.Concession.Arg2-as-denier',\n",
       " '2': 'EntRel',\n",
       " '3': 'Contingency.Cause.Reason',\n",
       " '4': 'Contingency.Cause.Result',\n",
       " '5': 'Expansion.Level-of-detail.Arg2-as-detail',\n",
       " '6': 'Temporal.Synchronous',\n",
       " '7': 'Comparison.Contrast',\n",
       " '8': 'Temporal.Asynchronous.Precedence',\n",
       " '9': 'Expansion.Instantiation.Arg2-as-instance',\n",
       " '10': 'Contingency.Condition.Arg2-as-cond',\n",
       " '11': 'Contingency.Purpose.Arg2-as-goal',\n",
       " '12': 'Temporal.Asynchronous.Succession',\n",
       " '13': 'Comparison.Concession.Arg1-as-denier',\n",
       " '14': 'Expansion.Manner.Arg2-as-manner',\n",
       " '15': 'Expansion.Manner.Arg1-as-manner',\n",
       " '16': 'Expansion.Substitution.Arg2-as-subst',\n",
       " '17': 'Expansion.Equivalence',\n",
       " '18': 'Expansion.Disjunction',\n",
       " '19': 'Expansion.Level-of-detail.Arg1-as-detail',\n",
       " '20': 'NoRel',\n",
       " '21': 'Comparison.Similarity',\n",
       " '22': 'Contingency.Cause+Belief.Reason+Belief',\n",
       " '23': 'Hypophora',\n",
       " '24': 'Contingency.Purpose.Arg1-as-goal',\n",
       " '25': 'Expansion.Substitution.Arg1-as-subst',\n",
       " '26': 'Contingency.Negative-condition.Arg2-as-negCond',\n",
       " '27': 'Contingency.Condition+SpeechAct',\n",
       " '28': 'Contingency.Cause+Belief.Result+Belief',\n",
       " '29': 'Contingency.Condition.Arg1-as-cond',\n",
       " '30': 'Expansion.Exception.Arg2-as-excpt',\n",
       " '31': 'Comparison.Concession+SpeechAct.Arg2-as-denier+SpeechAct',\n",
       " '32': 'Expansion.Exception.Arg1-as-excpt',\n",
       " '33': 'Contingency.Negative-condition.Arg1-as-negCond',\n",
       " '34': 'Contingency.Cause+SpeechAct.Reason+SpeechAct',\n",
       " '35': 'Contingency.Cause+SpeechAct.Result+SpeechAct',\n",
       " '36': 'Expansion.Instantiation.Arg1-as-instance',\n",
       " '37': 'Contingency.Negative-cause.NegResult'}"
      ]
     },
     "execution_count": 6,
     "metadata": {},
     "output_type": "execute_result"
    }
   ],
   "source": [
    "{str(i):o[0] for i,o in enumerate(sense)}"
   ]
  },
  {
   "cell_type": "code",
   "execution_count": 7,
   "metadata": {},
   "outputs": [
    {
     "data": {
      "text/plain": [
       "['Expansion.Conjunction',\n",
       " 'Comparison.Concession.Arg2-as-denier',\n",
       " 'EntRel',\n",
       " 'Contingency.Cause.Reason',\n",
       " 'Contingency.Cause.Result',\n",
       " 'Expansion.Level-of-detail.Arg2-as-detail',\n",
       " 'Temporal.Synchronous',\n",
       " 'Comparison.Contrast',\n",
       " 'Temporal.Asynchronous.Precedence',\n",
       " 'Expansion.Instantiation.Arg2-as-instance',\n",
       " 'Contingency.Condition.Arg2-as-cond',\n",
       " 'Contingency.Purpose.Arg2-as-goal',\n",
       " 'Temporal.Asynchronous.Succession',\n",
       " 'Comparison.Concession.Arg1-as-denier',\n",
       " 'Expansion.Manner.Arg2-as-manner',\n",
       " 'Expansion.Manner.Arg1-as-manner',\n",
       " 'Expansion.Substitution.Arg2-as-subst',\n",
       " 'Expansion.Equivalence',\n",
       " 'Expansion.Disjunction',\n",
       " 'Expansion.Level-of-detail.Arg1-as-detail',\n",
       " 'NoRel',\n",
       " 'Comparison.Similarity',\n",
       " 'Contingency.Cause+Belief.Reason+Belief',\n",
       " 'Hypophora',\n",
       " 'Contingency.Purpose.Arg1-as-goal',\n",
       " 'Expansion.Substitution.Arg1-as-subst',\n",
       " 'Contingency.Negative-condition.Arg2-as-negCond',\n",
       " 'Contingency.Condition+SpeechAct',\n",
       " 'Contingency.Cause+Belief.Result+Belief',\n",
       " 'Contingency.Condition.Arg1-as-cond',\n",
       " 'Expansion.Exception.Arg2-as-excpt',\n",
       " 'Comparison.Concession+SpeechAct.Arg2-as-denier+SpeechAct',\n",
       " 'Expansion.Exception.Arg1-as-excpt',\n",
       " 'Contingency.Negative-condition.Arg1-as-negCond',\n",
       " 'Contingency.Cause+SpeechAct.Reason+SpeechAct',\n",
       " 'Contingency.Cause+SpeechAct.Result+SpeechAct',\n",
       " 'Expansion.Instantiation.Arg1-as-instance',\n",
       " 'Contingency.Negative-cause.NegResult']"
      ]
     },
     "execution_count": 7,
     "metadata": {},
     "output_type": "execute_result"
    }
   ],
   "source": [
    "[o[0] for o in sense]"
   ]
  },
  {
   "cell_type": "markdown",
   "metadata": {},
   "source": [
    "## write explicit conn"
   ]
  },
  {
   "cell_type": "code",
   "execution_count": 6,
   "metadata": {},
   "outputs": [],
   "source": [
    "conn = Counter([relation['Connective']['RawText'] for relation in parse_data if relation['Type']=='Explicit' ])"
   ]
  },
  {
   "cell_type": "code",
   "execution_count": 7,
   "metadata": {},
   "outputs": [
    {
     "data": {
      "text/plain": [
       "(170, 21548)"
      ]
     },
     "execution_count": 7,
     "metadata": {},
     "output_type": "execute_result"
    }
   ],
   "source": [
    "len(conn), len([relation['Connective']['RawText'] for relation in parse_data if relation['Type']=='Explicit' ])"
   ]
  },
  {
   "cell_type": "code",
   "execution_count": 18,
   "metadata": {
    "scrolled": false
   },
   "outputs": [],
   "source": [
    "connective_list = [o[0] for o in conn.most_common()]"
   ]
  },
  {
   "cell_type": "code",
   "execution_count": 15,
   "metadata": {},
   "outputs": [],
   "source": [
    "with open('/home/pengfei/Github/conll3_discourse/data/connective-category.txt') as f:\n",
    "    conns_old = [o.split('#')[0].strip() for o in f.readlines()]"
   ]
  },
  {
   "cell_type": "code",
   "execution_count": 22,
   "metadata": {},
   "outputs": [
    {
     "data": {
      "text/plain": [
       "{'about',\n",
       " 'afterwards',\n",
       " 'albeit',\n",
       " 'along with',\n",
       " 'and then',\n",
       " 'and/or',\n",
       " 'as much as',\n",
       " 'as well as',\n",
       " 'at the same time',\n",
       " 'because of',\n",
       " 'beyond',\n",
       " 'both and',\n",
       " 'but also',\n",
       " 'but then',\n",
       " 'but then again',\n",
       " 'by',\n",
       " 'depending on',\n",
       " 'despite',\n",
       " 'due to',\n",
       " 'even after',\n",
       " 'even as',\n",
       " 'even before',\n",
       " 'even before then',\n",
       " 'even if',\n",
       " 'even so',\n",
       " 'even then',\n",
       " 'even though',\n",
       " 'even when',\n",
       " 'even while',\n",
       " 'even with',\n",
       " 'from',\n",
       " 'given',\n",
       " 'if only',\n",
       " 'in',\n",
       " 'in any case',\n",
       " 'in case',\n",
       " 'in order',\n",
       " 'in the meantime',\n",
       " 'in the meanwhile',\n",
       " 'instead of',\n",
       " 'later on',\n",
       " 'like',\n",
       " 'more accurately',\n",
       " 'much less',\n",
       " 'no matter',\n",
       " 'not just but',\n",
       " 'not just but also',\n",
       " 'not only',\n",
       " 'not only also',\n",
       " 'not only because of',\n",
       " 'not only but',\n",
       " 'not only but also',\n",
       " 'not so much as',\n",
       " 'on',\n",
       " 'on the one hand on the other',\n",
       " 'only',\n",
       " 'only if',\n",
       " 'or otherwise',\n",
       " 'rather than',\n",
       " 'regardless of',\n",
       " 'since before',\n",
       " 'so as',\n",
       " 'so long as',\n",
       " 'so much as',\n",
       " 'subsequently',\n",
       " 'such as',\n",
       " 'that is',\n",
       " 'upon',\n",
       " 'whatever',\n",
       " 'whenever',\n",
       " 'where',\n",
       " 'whether',\n",
       " 'with',\n",
       " 'without'}"
      ]
     },
     "execution_count": 22,
     "metadata": {},
     "output_type": "execute_result"
    }
   ],
   "source": [
    "x = set(connective_list) - set(conns_old)\n",
    "x"
   ]
  },
  {
   "cell_type": "code",
   "execution_count": 15,
   "metadata": {},
   "outputs": [],
   "source": [
    "def read_file(filename):\n",
    "    with open(filename) as f:\n",
    "        rawtext = f.readlines()\n",
    "    return [o.strip() for o in rawtext]\n",
    "conn3_path = '/home/pengfei/Github/conll3_discourse/data/ExpConn.txt'\n",
    "conn2_path = '/home/pengfei/Github/conll3_discourse/data/sortedExpConn.txt'\n",
    "conn3 = read_file(conn3_path)\n",
    "conn2 = read_file(conn2_path)\n",
    "long = []\n",
    "short = []\n",
    "for conn in conn3:\n",
    "    if '..' in conn:\n",
    "        long.append(conn)\n",
    "    else:\n",
    "        short.append(conn)\n",
    "overall = long + short\n",
    "with open('sortedExpConn.txt', 'a') as f:\n",
    "    for conn in overall:\n",
    "        f.write(conn)\n",
    "        f.write('\\n')"
   ]
  },
  {
   "cell_type": "markdown",
   "metadata": {},
   "source": [
    "# multi sense classification"
   ]
  },
  {
   "cell_type": "code",
   "execution_count": 4,
   "metadata": {},
   "outputs": [],
   "source": [
    "def merge3dicts(x, y, z):\n",
    "    m = x\n",
    "    m.update(y)\n",
    "    m.update(z)\n",
    "    return m\n",
    "# pdtb2\n",
    "conll_train = '/home/pengfei/data/2015-2016_conll_shared_task/data/conll16st-en-03-29-16-train/pdtb-parses.json'\n",
    "parse_dict_train = json.loads(codecs.open(conll_train, encoding='utf-8', errors='ignore').read())\n",
    "conll_dev = '/home/pengfei/data/2015-2016_conll_shared_task/data/conll16st-en-03-29-16-dev/pdtb-parses.json'\n",
    "parse_dict_dev = json.loads(codecs.open(conll_dev, encoding='utf-8', errors='ignore').read())\n",
    "conll_test = '/home/pengfei/data/2015-2016_conll_shared_task/data/conll16st-en-03-29-16-test/pdtb-parses.json'\n",
    "parse_dict_test = json.loads(codecs.open(conll_test, encoding='utf-8', errors='ignore').read())\n",
    "parse_dict = merge3dicts(parse_dict_train, parse_dict_dev, parse_dict_test)\n",
    "\n",
    "parse_data_path = \"/home/pengfei/data/2015-2016_conll_shared_task/data/conll16st-en-03-29-16-train/relations.json\"\n",
    "parse_data_dev_path = '/home/pengfei/data/2015-2016_conll_shared_task/data/conll16st-en-03-29-16-dev/relations.json'\n",
    "parse_data_test_path = '/home/pengfei/data/2015-2016_conll_shared_task/data/conll16st-en-03-29-16-test/relations.json'\n",
    "parse_data = [json.loads(line) for line in codecs.open(parse_data_path).readlines()]\n",
    "parse_data_dev = [json.loads(line) for line in codecs.open(parse_data_dev_path).readlines()]\n",
    "parse_data_test = [json.loads(line) for line in codecs.open(parse_data_test_path).readlines()]\n",
    "parse_data.extend(parse_data_dev)\n",
    "parse_data.extend(parse_data_test)"
   ]
  },
  {
   "cell_type": "code",
   "execution_count": 8,
   "metadata": {},
   "outputs": [
    {
     "data": {
      "text/plain": [
       "(34667, 1243, 0)"
      ]
     },
     "execution_count": 8,
     "metadata": {},
     "output_type": "execute_result"
    }
   ],
   "source": [
    "single = 0;double = 0; non = 0\n",
    "for r in parse_data:\n",
    "    if len(r['Sense']) == 1:\n",
    "        single += 1\n",
    "    if len(r['Sense']) == 2:\n",
    "        double += 1\n",
    "    if len(r['Sense']) == 0:\n",
    "        non += 1\n",
    "single, double, non"
   ]
  },
  {
   "cell_type": "code",
   "execution_count": 9,
   "metadata": {},
   "outputs": [
    {
     "name": "stdout",
     "output_type": "stream",
     "text": [
      "datasets loaded\n"
     ]
    }
   ],
   "source": [
    "conll_train = '/home/pengfei/data/PDTB-3.0/all/conll/train/pdtb-parses.json'\n",
    "parse_dict_train = json.loads(codecs.open(conll_train, encoding='utf-8', errors='ignore').read())\n",
    "conll_dev = '/home/pengfei/data/PDTB-3.0/all/conll/dev/pdtb-parses.json'\n",
    "parse_dict_dev = json.loads(codecs.open(conll_dev, encoding='utf-8', errors='ignore').read())\n",
    "conll_test = '/home/pengfei/data/PDTB-3.0/all/conll/test/pdtb-parses.json'\n",
    "parse_dict_test = json.loads(codecs.open(conll_test, encoding='utf-8', errors='ignore').read())\n",
    "print(\"datasets loaded\")\n",
    "parse_dict = merge3dicts(parse_dict_train, parse_dict_dev, parse_dict_test)\n",
    "\n",
    "parse_data_path = \"/home/pengfei/data/PDTB-3.0/all/conll/train/relations.json\"\n",
    "parse_data_dev_path = '/home/pengfei/data/PDTB-3.0/all/conll/dev/relations.json'\n",
    "parse_data_test_path = '/home/pengfei/data/PDTB-3.0/all/conll/test/relations.json'\n",
    "parse_data = [json.loads(line) for line in codecs.open(parse_data_path).readlines()]\n",
    "parse_data_dev = [json.loads(line) for line in codecs.open(parse_data_dev_path).readlines()]\n",
    "parse_data_test = [json.loads(line) for line in codecs.open(parse_data_test_path).readlines()]\n",
    "parse_data.extend(parse_data_dev)\n",
    "parse_data.extend(parse_data_test)"
   ]
  },
  {
   "cell_type": "code",
   "execution_count": 10,
   "metadata": {},
   "outputs": [
    {
     "data": {
      "text/plain": [
       "(45762, 2008, 0)"
      ]
     },
     "execution_count": 10,
     "metadata": {},
     "output_type": "execute_result"
    }
   ],
   "source": [
    "single = 0;double = 0; non = 0\n",
    "for r in parse_data:\n",
    "    if len(r['Sense']) == 1:\n",
    "        single += 1\n",
    "    if len(r['Sense']) == 2:\n",
    "        double += 1\n",
    "    if len(r['Sense']) == 0:\n",
    "        non += 1\n",
    "single, double, non"
   ]
  },
  {
   "cell_type": "markdown",
   "metadata": {},
   "source": [
    "# conclusion: the double sensed have almost increased"
   ]
  },
  {
   "cell_type": "code",
   "execution_count": null,
   "metadata": {},
   "outputs": [],
   "source": []
  }
 ],
 "metadata": {
  "kernelspec": {
   "display_name": "Python 3",
   "language": "python",
   "name": "python3"
  },
  "language_info": {
   "codemirror_mode": {
    "name": "ipython",
    "version": 3
   },
   "file_extension": ".py",
   "mimetype": "text/x-python",
   "name": "python",
   "nbconvert_exporter": "python",
   "pygments_lexer": "ipython3",
   "version": "3.7.0"
  }
 },
 "nbformat": 4,
 "nbformat_minor": 2
}
