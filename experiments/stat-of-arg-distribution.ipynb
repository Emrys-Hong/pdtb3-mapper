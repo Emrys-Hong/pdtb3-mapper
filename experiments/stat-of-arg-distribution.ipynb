{
 "cells": [
  {
   "cell_type": "code",
   "execution_count": 1,
   "metadata": {},
   "outputs": [],
   "source": [
    "import sys\n",
    "sys.path.append('..')\n",
    "from api.api import PDTB"
   ]
  },
  {
   "cell_type": "code",
   "execution_count": 2,
   "metadata": {},
   "outputs": [],
   "source": [
    "pdtb3 = PDTB()"
   ]
  },
  {
   "cell_type": "markdown",
   "metadata": {},
   "source": [
    "# arg 1 and arg2 sentence distribution"
   ]
  },
  {
   "cell_type": "code",
   "execution_count": 3,
   "metadata": {},
   "outputs": [],
   "source": [
    "from collections import Counter"
   ]
  },
  {
   "cell_type": "markdown",
   "metadata": {},
   "source": [
    "# length of arg2"
   ]
  },
  {
   "cell_type": "code",
   "execution_count": 6,
   "metadata": {},
   "outputs": [
    {
     "data": {
      "text/plain": [
       "[(1, 0.989637848021771),\n",
       " (2, 0.007745446933221687),\n",
       " (3, 0.0016328239480845718),\n",
       " (4, 0.0004814737282813481),\n",
       " (5, 0.00023027004396064475)]"
      ]
     },
     "execution_count": 6,
     "metadata": {},
     "output_type": "execute_result"
    }
   ],
   "source": [
    "dis2 = []\n",
    "total = len(pdtb3.parse_data)\n",
    "for i in range(total):\n",
    "    arg2 = pdtb3.get_arg_sent_id(i, 'Arg2')\n",
    "    dis2.append(len(arg2))\n",
    "dis2 = Counter(dis2).most_common(5)\n",
    "[(o[0], o[1]/total) for o in dis2]"
   ]
  },
  {
   "cell_type": "markdown",
   "metadata": {},
   "source": [
    "# we assume arg2 is always in the same sentence"
   ]
  },
  {
   "cell_type": "markdown",
   "metadata": {},
   "source": [
    "# length of arg1"
   ]
  },
  {
   "cell_type": "code",
   "execution_count": 8,
   "metadata": {},
   "outputs": [
    {
     "data": {
      "text/plain": [
       "[(1, 0.9832530877119531),\n",
       " (2, 0.012706719698555578),\n",
       " (3, 0.002344567720326565),\n",
       " (4, 0.000921080175842579),\n",
       " (5, 0.0004186728072011723),\n",
       " (6, 0.00010466820180029308),\n",
       " (8, 6.280092108017584e-05),\n",
       " (7, 4.186728072011723e-05),\n",
       " (13, 4.186728072011723e-05),\n",
       " (9, 4.186728072011723e-05),\n",
       " (11, 2.0933640360058613e-05),\n",
       " (16, 2.0933640360058613e-05),\n",
       " (45, 2.0933640360058613e-05)]"
      ]
     },
     "execution_count": 8,
     "metadata": {},
     "output_type": "execute_result"
    }
   ],
   "source": [
    "dis1 = []\n",
    "total = len(pdtb3.parse_data)\n",
    "for i in range(total):\n",
    "    arg1 = pdtb3.get_arg_sent_id(i, 'Arg1')\n",
    "    dis1.append(len(arg1))\n",
    "dis1 = Counter(dis1).most_common()\n",
    "[(o[0], o[1]/total) for o in dis1]"
   ]
  },
  {
   "cell_type": "markdown",
   "metadata": {},
   "source": [
    "# we assume arg1 is always in the same sentence"
   ]
  },
  {
   "cell_type": "markdown",
   "metadata": {},
   "source": [
    "# relative position for arg1 and arg2"
   ]
  },
  {
   "cell_type": "code",
   "execution_count": 15,
   "metadata": {},
   "outputs": [
    {
     "data": {
      "text/plain": [
       "[(-1, 0.49143814109273604),\n",
       " (0, 0.4529202428302282),\n",
       " (-2, 0.013250994347917103),\n",
       " (-3, 0.005945153862256646),\n",
       " (-4, 0.003098178773288675),\n",
       " (-5, 0.0019886958342055683),\n",
       " (-6, 0.001193217500523341),\n",
       " (-7, 0.0008582792547624032),\n",
       " (-8, 0.0004605400879212895),\n",
       " (-9, 0.00039773916684111366)]"
      ]
     },
     "execution_count": 15,
     "metadata": {},
     "output_type": "execute_result"
    }
   ],
   "source": [
    "re = []\n",
    "total = len(pdtb3.parse_data)\n",
    "for i in range(total):\n",
    "    arg1 = pdtb3.get_arg_sent_id(i, 'Arg1')\n",
    "    arg2 = pdtb3.get_arg_sent_id(i, 'Arg2')\n",
    "    if len(arg1) == 1 and len(arg2)==1:\n",
    "        dis1.append(arg1[0] - arg2[0])\n",
    "dis1 = Counter(dis1).most_common(10)\n",
    "[(o[0], o[1]/total) for o in dis1]"
   ]
  },
  {
   "cell_type": "markdown",
   "metadata": {},
   "source": [
    "# most of the relation arg1 and arg2 either in same sentence or in previous sentence"
   ]
  },
  {
   "cell_type": "code",
   "execution_count": 17,
   "metadata": {},
   "outputs": [
    {
     "data": {
      "text/plain": [
       "[((-2, -1), 0.008582792547624032),\n",
       " ((-1, -2), 0.0012769520619635754),\n",
       " ((-3, -2), 0.0004814737282813481),\n",
       " ((0, 1), 0.00027213732468076197),\n",
       " ((-4, -3), 0.00020933640360058616),\n",
       " ((-1, 0), 0.00018840276324052753),\n",
       " ((-3, -1), 0.00018840276324052753),\n",
       " ((-5, -4), 0.0001256018421603517),\n",
       " ((-4, -2), 6.280092108017584e-05),\n",
       " ((-5, -2), 6.280092108017584e-05)]"
      ]
     },
     "execution_count": 17,
     "metadata": {},
     "output_type": "execute_result"
    }
   ],
   "source": [
    "re = []\n",
    "total = len(pdtb3.parse_data)\n",
    "for i in range(total):\n",
    "    arg1 = pdtb3.get_arg_sent_id(i, 'Arg1')\n",
    "    arg2 = pdtb3.get_arg_sent_id(i, 'Arg2')\n",
    "    if len(arg1) == 2 and len(arg2)==1:\n",
    "        dis1.append( (arg1[0] - arg2[0], arg1[1] - arg2[0]) )\n",
    "dis1 = Counter(dis1).most_common(10)\n",
    "[(o[0], o[1]/total) for o in dis1]"
   ]
  },
  {
   "cell_type": "markdown",
   "metadata": {},
   "source": [
    "# arg1 takes both previous sentence and previous previous sentence only take up 0.8%"
   ]
  },
  {
   "cell_type": "markdown",
   "metadata": {},
   "source": [
    "\n",
    "\n",
    "\n",
    "\n",
    "# Span distribution"
   ]
  },
  {
   "cell_type": "code",
   "execution_count": 5,
   "metadata": {},
   "outputs": [
    {
     "data": {
      "text/plain": [
       "[(1, 0.953925057567511),\n",
       " (2, 0.044777056730165375),\n",
       " (3, 0.0009629474565626962),\n",
       " (4, 0.00018840276324052753),\n",
       " (5, 0.00010466820180029308),\n",
       " (6, 4.186728072011723e-05)]"
      ]
     },
     "execution_count": 5,
     "metadata": {},
     "output_type": "execute_result"
    }
   ],
   "source": [
    "def span_number(span):\n",
    "    n = 0\n",
    "    pred_index = -1\n",
    "    for token in span:\n",
    "        if token != pred_index:\n",
    "            pred_index = token\n",
    "            n += 1\n",
    "        pred_index += 1\n",
    "    return n\n",
    "\n",
    "re = []\n",
    "total = len(pdtb3.parse_data)\n",
    "for i in range(total):\n",
    "    arg1 = pdtb3.get_arg_token_list_in_doc(i, 'Arg1')\n",
    "    re.append(span_number(arg1))\n",
    "re = Counter(re).most_common(10)\n",
    "[(o[0], o[1]/total) for o in re]"
   ]
  },
  {
   "cell_type": "code",
   "execution_count": 9,
   "metadata": {},
   "outputs": [
    {
     "data": {
      "text/plain": [
       "3"
      ]
     },
     "execution_count": 9,
     "metadata": {},
     "output_type": "execute_result"
    }
   ],
   "source": [
    "span = [1,2,3,5,6,9]\n",
    "span_number(span)"
   ]
  }
 ],
 "metadata": {
  "kernelspec": {
   "display_name": "Python 3",
   "language": "python",
   "name": "python3"
  },
  "language_info": {
   "codemirror_mode": {
    "name": "ipython",
    "version": 3
   },
   "file_extension": ".py",
   "mimetype": "text/x-python",
   "name": "python",
   "nbconvert_exporter": "python",
   "pygments_lexer": "ipython3",
   "version": "3.7.0"
  }
 },
 "nbformat": 4,
 "nbformat_minor": 2
}
