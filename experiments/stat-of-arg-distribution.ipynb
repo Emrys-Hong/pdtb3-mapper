{
 "cells": [
  {
   "cell_type": "code",
   "execution_count": 3,
   "metadata": {},
   "outputs": [],
   "source": [
    "import sys\n",
    "sys.path.append('..')\n",
    "from api.api import PDTB\n",
    "from collections import Counter"
   ]
  },
  {
   "cell_type": "code",
   "execution_count": 4,
   "metadata": {},
   "outputs": [],
   "source": [
    "pdtb3 = PDTB()"
   ]
  },
  {
   "cell_type": "markdown",
   "metadata": {},
   "source": [
    "# arg 1 and arg2 sentence distribution among Explicit and Implicit"
   ]
  },
  {
   "cell_type": "markdown",
   "metadata": {},
   "source": [
    "## length of arg2"
   ]
  },
  {
   "cell_type": "code",
   "execution_count": 6,
   "metadata": {},
   "outputs": [
    {
     "data": {
      "text/plain": [
       "[(1, 0.989637848021771),\n",
       " (2, 0.007745446933221687),\n",
       " (3, 0.0016328239480845718),\n",
       " (4, 0.0004814737282813481),\n",
       " (5, 0.00023027004396064475)]"
      ]
     },
     "execution_count": 6,
     "metadata": {},
     "output_type": "execute_result"
    }
   ],
   "source": [
    "dis2 = []\n",
    "total = len(pdtb3.parse_data)\n",
    "for i in range(total):\n",
    "    arg2 = pdtb3.get_arg_sent_id(i, 'Arg2')\n",
    "    dis2.append(len(arg2))\n",
    "dis2 = Counter(dis2).most_common(5)\n",
    "[(o[0], o[1]/total) for o in dis2]"
   ]
  },
  {
   "cell_type": "markdown",
   "metadata": {},
   "source": [
    "## Conclusion: we assume arg2 is always in the same sentence"
   ]
  },
  {
   "cell_type": "markdown",
   "metadata": {},
   "source": [
    "## length of arg1"
   ]
  },
  {
   "cell_type": "code",
   "execution_count": 8,
   "metadata": {},
   "outputs": [
    {
     "data": {
      "text/plain": [
       "[(1, 0.9832530877119531),\n",
       " (2, 0.012706719698555578),\n",
       " (3, 0.002344567720326565),\n",
       " (4, 0.000921080175842579),\n",
       " (5, 0.0004186728072011723),\n",
       " (6, 0.00010466820180029308),\n",
       " (8, 6.280092108017584e-05),\n",
       " (7, 4.186728072011723e-05),\n",
       " (13, 4.186728072011723e-05),\n",
       " (9, 4.186728072011723e-05),\n",
       " (11, 2.0933640360058613e-05),\n",
       " (16, 2.0933640360058613e-05),\n",
       " (45, 2.0933640360058613e-05)]"
      ]
     },
     "execution_count": 8,
     "metadata": {},
     "output_type": "execute_result"
    }
   ],
   "source": [
    "dis1 = []\n",
    "total = len(pdtb3.parse_data)\n",
    "for i in range(total):\n",
    "    arg1 = pdtb3.get_arg_sent_id(i, 'Arg1')\n",
    "    dis1.append(len(arg1))\n",
    "dis1 = Counter(dis1).most_common()\n",
    "[(o[0], o[1]/total) for o in dis1]"
   ]
  },
  {
   "cell_type": "markdown",
   "metadata": {},
   "source": [
    "## Conclusion: we assume arg1 is always in the same sentence"
   ]
  },
  {
   "cell_type": "markdown",
   "metadata": {},
   "source": [
    "## relative position for arg1 and arg2"
   ]
  },
  {
   "cell_type": "code",
   "execution_count": 35,
   "metadata": {},
   "outputs": [
    {
     "data": {
      "text/plain": [
       "[(-1, 0.49143814109273604),\n",
       " (0, 0.4529202428302282),\n",
       " (-2, 0.013250994347917103),\n",
       " (-3, 0.005945153862256646),\n",
       " (-4, 0.003098178773288675),\n",
       " (-5, 0.0019886958342055683),\n",
       " (-6, 0.001193217500523341),\n",
       " (-7, 0.0008582792547624032),\n",
       " (-8, 0.0004605400879212895),\n",
       " (-9, 0.00039773916684111366)]"
      ]
     },
     "execution_count": 35,
     "metadata": {},
     "output_type": "execute_result"
    }
   ],
   "source": [
    "dis1 = []\n",
    "total = len(pdtb3.parse_data)\n",
    "for i in range(total):\n",
    "    arg1 = pdtb3.get_arg_sent_id(i, 'Arg1')\n",
    "    arg2 = pdtb3.get_arg_sent_id(i, 'Arg2')\n",
    "    if len(arg1) == 1 and len(arg2)==1:\n",
    "        dis1.append(arg1[0] - arg2[0])\n",
    "dis1 = Counter(dis1).most_common(10)\n",
    "[(o[0], o[1]/total) for o in dis1]"
   ]
  },
  {
   "cell_type": "markdown",
   "metadata": {},
   "source": [
    "## Conclusion: most of the relation arg1 and arg2 either in same sentence or in previous sentence"
   ]
  },
  {
   "cell_type": "code",
   "execution_count": 17,
   "metadata": {},
   "outputs": [
    {
     "data": {
      "text/plain": [
       "[((-2, -1), 0.008582792547624032),\n",
       " ((-1, -2), 0.0012769520619635754),\n",
       " ((-3, -2), 0.0004814737282813481),\n",
       " ((0, 1), 0.00027213732468076197),\n",
       " ((-4, -3), 0.00020933640360058616),\n",
       " ((-1, 0), 0.00018840276324052753),\n",
       " ((-3, -1), 0.00018840276324052753),\n",
       " ((-5, -4), 0.0001256018421603517),\n",
       " ((-4, -2), 6.280092108017584e-05),\n",
       " ((-5, -2), 6.280092108017584e-05)]"
      ]
     },
     "execution_count": 17,
     "metadata": {},
     "output_type": "execute_result"
    }
   ],
   "source": [
    "re = []\n",
    "total = len(pdtb3.parse_data)\n",
    "for i in range(total):\n",
    "    arg1 = pdtb3.get_arg_sent_id(i, 'Arg1')\n",
    "    arg2 = pdtb3.get_arg_sent_id(i, 'Arg2')\n",
    "    if len(arg1) == 2 and len(arg2)==1:\n",
    "        dis1.append( (arg1[0] - arg2[0], arg1[1] - arg2[0]) )\n",
    "dis1 = Counter(dis1).most_common(10)\n",
    "[(o[0], o[1]/total) for o in dis1]"
   ]
  },
  {
   "cell_type": "markdown",
   "metadata": {},
   "source": [
    "## Conclusion: arg1 takes both previous sentence and previous previous sentence only take up 0.8%"
   ]
  },
  {
   "cell_type": "markdown",
   "metadata": {},
   "source": [
    "## Span number distribution arg1"
   ]
  },
  {
   "cell_type": "code",
   "execution_count": 5,
   "metadata": {},
   "outputs": [
    {
     "data": {
      "text/plain": [
       "[(1, 0.953925057567511),\n",
       " (2, 0.044777056730165375),\n",
       " (3, 0.0009629474565626962),\n",
       " (4, 0.00018840276324052753),\n",
       " (5, 0.00010466820180029308),\n",
       " (6, 4.186728072011723e-05)]"
      ]
     },
     "execution_count": 5,
     "metadata": {},
     "output_type": "execute_result"
    }
   ],
   "source": [
    "def span_number(span):\n",
    "    n = 0\n",
    "    pred_index = -1\n",
    "    for token in span:\n",
    "        if token != pred_index:\n",
    "            pred_index = token\n",
    "            n += 1\n",
    "        pred_index += 1\n",
    "    return n\n",
    "\n",
    "re = []\n",
    "total = len(pdtb3.parse_data)\n",
    "for i in range(total):\n",
    "    arg1 = pdtb3.get_arg_token_list_in_doc(i, 'Arg1')\n",
    "    re.append(span_number(arg1))\n",
    "re = Counter(re).most_common(10)\n",
    "[(o[0], o[1]/total) for o in re]"
   ]
  },
  {
   "cell_type": "markdown",
   "metadata": {},
   "source": [
    "## span number distribution arg2"
   ]
  },
  {
   "cell_type": "code",
   "execution_count": 5,
   "metadata": {},
   "outputs": [
    {
     "data": {
      "text/plain": [
       "[(1, 0.9280929453631986),\n",
       " (2, 0.07081850533807829),\n",
       " (3, 0.0010676156583629894),\n",
       " (4, 2.0933640360058613e-05)]"
      ]
     },
     "execution_count": 5,
     "metadata": {},
     "output_type": "execute_result"
    }
   ],
   "source": [
    "def span_number(span):\n",
    "    n = 0\n",
    "    pred_index = -1\n",
    "    for token in span:\n",
    "        if token != pred_index:\n",
    "            pred_index = token\n",
    "            n += 1\n",
    "        pred_index += 1\n",
    "    return n\n",
    "\n",
    "re = []\n",
    "total = len(pdtb3.parse_data)\n",
    "for i in range(total):\n",
    "    arg1 = pdtb3.get_arg_token_list_in_doc(i, 'Arg2')\n",
    "    re.append(span_number(arg1))\n",
    "re = Counter(re).most_common(10)\n",
    "[(o[0], o[1]/total) for o in re]"
   ]
  },
  {
   "cell_type": "markdown",
   "metadata": {},
   "source": [
    "## arg1 span is one whole sentence"
   ]
  },
  {
   "cell_type": "code",
   "execution_count": 5,
   "metadata": {},
   "outputs": [
    {
     "data": {
      "text/plain": [
       "[(False, 0.630709650408206), (True, 0.369290349591794)]"
      ]
     },
     "execution_count": 5,
     "metadata": {},
     "output_type": "execute_result"
    }
   ],
   "source": [
    "re = []\n",
    "total = len(pdtb3.parse_data)\n",
    "for i in range(total):\n",
    "    arg = pdtb3.arg_is_whole_sentence(i, 'Arg1')\n",
    "    re.append(arg)\n",
    "re = Counter(re).most_common(10)\n",
    "[(o[0], o[1]/total) for o in re]"
   ]
  },
  {
   "cell_type": "markdown",
   "metadata": {},
   "source": [
    "## arg2 span is one whole sentence"
   ]
  },
  {
   "cell_type": "code",
   "execution_count": 6,
   "metadata": {},
   "outputs": [
    {
     "data": {
      "text/plain": [
       "[(False, 0.7078082478543019), (True, 0.29219175214569815)]"
      ]
     },
     "execution_count": 6,
     "metadata": {},
     "output_type": "execute_result"
    }
   ],
   "source": [
    "re = []\n",
    "total = len(pdtb3.parse_data)\n",
    "for i in range(total):\n",
    "    arg = pdtb3.arg_is_whole_sentence(i, 'Arg2')\n",
    "    re.append(arg)\n",
    "re = Counter(re).most_common(10)\n",
    "[(o[0], o[1]/total) for o in re]"
   ]
  },
  {
   "cell_type": "markdown",
   "metadata": {},
   "source": [
    "# Explicit and Implicit Analyses (divided by explicit number)"
   ]
  },
  {
   "cell_type": "markdown",
   "metadata": {},
   "source": [
    "## Implicit and explicit proportion"
   ]
  },
  {
   "cell_type": "code",
   "execution_count": 11,
   "metadata": {},
   "outputs": [
    {
     "name": "stdout",
     "output_type": "stream",
     "text": [
      "[('Explicit', 0.45107808247854303), ('Implicit', 0.4088549298723048), ('EntRel', 0.10169562486916475), ('AltLex', 0.028281348126439187), ('NoRel', 0.005086874607494243), ('Hypophora', 0.0025539041239271507), ('AltLexC', 0.002449235922126858)]\n"
     ]
    }
   ],
   "source": [
    "re = []\n",
    "\n",
    "for i in range(len(pdtb3.parse_data)):\n",
    "    re.append(pdtb3.parse_data[i]['Type'] )\n",
    "re = Counter(re).most_common()\n",
    "print([(o[0], o[1]/len(pdtb3.parse_data)) for o in re])"
   ]
  },
  {
   "cell_type": "markdown",
   "metadata": {},
   "source": [
    "## Number of segments in arg"
   ]
  },
  {
   "cell_type": "code",
   "execution_count": 33,
   "metadata": {
    "scrolled": false
   },
   "outputs": [
    {
     "name": "stdout",
     "output_type": "stream",
     "text": [
      "Explicit\n",
      "arg1\n",
      "[(1, 0.9363281975125302), (2, 0.06149062558010024), (3, 0.001485056617783553)]\n",
      "arg2\n",
      "[(1, 0.8726563950250603), (2, 0.12534806014479302), (3, 0.0019955448301466495)]\n",
      "\n",
      "\n",
      "\n",
      "Implicit\n",
      "arg1\n",
      "[(1, 0.9641083405867595), (2, 0.03532845220418821), (3, 0.0005120065536838871)]\n",
      "arg2\n",
      "[(1, 0.9669243766320209), (2, 0.032666018125032004), (3, 0.000358404587578721)]\n"
     ]
    }
   ],
   "source": [
    "re = []\n",
    "total = 0\n",
    "for i in range(len(pdtb3.parse_data)):\n",
    "    if pdtb3.parse_data[i]['Type'] == 'Explicit':\n",
    "        total += 1\n",
    "        re.append(pdtb3.get_num_of_seg_of_arg(i, 'Arg1'))\n",
    "re = Counter(re).most_common(3)\n",
    "print('Explicit')\n",
    "print('arg1')\n",
    "print([(o[0], o[1]/total) for o in re])\n",
    "\n",
    "\n",
    "re = []\n",
    "total = 0\n",
    "for i in range(len(pdtb3.parse_data)):\n",
    "    if pdtb3.parse_data[i]['Type'] == 'Explicit':\n",
    "        total += 1\n",
    "        re.append(pdtb3.get_num_of_seg_of_arg(i, 'Arg2'))\n",
    "re = Counter(re).most_common(3)\n",
    "print('arg2')\n",
    "print([(o[0], o[1]/total) for o in re])\n",
    "\n",
    "print()\n",
    "print()\n",
    "print()\n",
    "\n",
    "re = []\n",
    "total = 0\n",
    "for i in range(len(pdtb3.parse_data)):\n",
    "    if pdtb3.parse_data[i]['Type'] == 'Implicit':\n",
    "        total += 1\n",
    "        re.append(pdtb3.get_num_of_seg_of_arg(i, 'Arg1'))\n",
    "re = Counter(re).most_common(3)\n",
    "print('Implicit')\n",
    "print('arg1')\n",
    "print([(o[0], o[1]/total) for o in re])\n",
    "\n",
    "\n",
    "re = []\n",
    "total = 0\n",
    "for i in range(len(pdtb3.parse_data)):\n",
    "    if pdtb3.parse_data[i]['Type'] == 'Implicit':\n",
    "        total += 1\n",
    "        re.append(pdtb3.get_num_of_seg_of_arg(i, 'Arg2'))\n",
    "re = Counter(re).most_common(3)\n",
    "print('arg2')\n",
    "print([(o[0], o[1]/total) for o in re])"
   ]
  },
  {
   "cell_type": "markdown",
   "metadata": {},
   "source": [
    "## Number of sentences of arg"
   ]
  },
  {
   "cell_type": "code",
   "execution_count": 31,
   "metadata": {},
   "outputs": [
    {
     "name": "stdout",
     "output_type": "stream",
     "text": [
      "explicit\n",
      "arg1\n",
      "[(1, 0.9773528865788008), (2, 0.016706886950064972), (3, 0.00315574531279005)]\n",
      "arg2\n",
      "[(1, 0.9948023018377575), (2, 0.004037497679599034), (3, 0.0006961202895860404)]\n",
      "\n",
      "\n",
      "Implicit\n",
      "arg1\n",
      "[(1, 0.9879166453330602), (2, 0.009420920587783524), (3, 0.0016384209717884388)]\n",
      "arg2\n",
      "[(1, 0.9826429778301162), (2, 0.012851364497465568), (3, 0.0027648353898929905)]\n"
     ]
    }
   ],
   "source": [
    "dis2 = []\n",
    "total = 0\n",
    "for i in range(len(pdtb3.parse_data)):\n",
    "    if pdtb3.parse_data[i]['Type'] == 'Explicit':\n",
    "        total += 1\n",
    "        arg2 = pdtb3.get_arg_sent_id(i, 'Arg1')\n",
    "        dis2.append(len(arg2))\n",
    "dis2 = Counter(dis2).most_common(3)\n",
    "print('explicit')\n",
    "print('arg1')\n",
    "print([(o[0], o[1]/total) for o in dis2])\n",
    "\n",
    "dis2 = []\n",
    "total = 0\n",
    "for i in range(len(pdtb3.parse_data)):\n",
    "    if pdtb3.parse_data[i]['Type'] == 'Explicit':\n",
    "        total += 1\n",
    "        arg2 = pdtb3.get_arg_sent_id(i, 'Arg2')\n",
    "        dis2.append(len(arg2))\n",
    "dis2 = Counter(dis2).most_common(3)\n",
    "print('arg2')\n",
    "print([(o[0], o[1]/total) for o in dis2])\n",
    "\n",
    "print()\n",
    "print()\n",
    "\n",
    "dis2 = []\n",
    "total = 0\n",
    "for i in range(len(pdtb3.parse_data)):\n",
    "    if pdtb3.parse_data[i]['Type'] == 'Implicit':\n",
    "        total += 1\n",
    "        arg2 = pdtb3.get_arg_sent_id(i, 'Arg1')\n",
    "        dis2.append(len(arg2))\n",
    "dis2 = Counter(dis2).most_common(3)\n",
    "print('Implicit')\n",
    "print('arg1')\n",
    "print([(o[0], o[1]/total) for o in dis2])\n",
    "\n",
    "dis2 = []\n",
    "total = 0\n",
    "for i in range(len(pdtb3.parse_data)):\n",
    "    if pdtb3.parse_data[i]['Type'] == 'Implicit':\n",
    "        total += 1\n",
    "        arg2 = pdtb3.get_arg_sent_id(i, 'Arg2')\n",
    "        dis2.append(len(arg2))\n",
    "dis2 = Counter(dis2).most_common(3)\n",
    "print('arg2')\n",
    "print([(o[0], o[1]/total) for o in dis2])\n"
   ]
  },
  {
   "cell_type": "markdown",
   "metadata": {},
   "source": [
    "## Arg Span is whole sentence"
   ]
  },
  {
   "cell_type": "code",
   "execution_count": 30,
   "metadata": {},
   "outputs": [
    {
     "name": "stdout",
     "output_type": "stream",
     "text": [
      "Explicit\n",
      "arg1\n",
      "[(False, 0.8159457954334509), (True, 0.1840542045665491)]\n",
      "arg2\n",
      "[(False, 0.9999535919806942), (True, 4.640801930573603e-05)]\n",
      "\n",
      "\n",
      "\n",
      "Implicit\n",
      "arg1\n",
      "[(False, 0.5514822589729148), (True, 0.44851774102708514)]\n",
      "arg2\n",
      "[(False, 0.5403205161026061), (True, 0.4596794838973939)]\n"
     ]
    }
   ],
   "source": [
    "re = []\n",
    "total = 0\n",
    "for i in range(len(pdtb3.parse_data)):\n",
    "    if pdtb3.parse_data[i]['Type'] == 'Explicit':\n",
    "        total += 1\n",
    "        arg = pdtb3.arg_is_whole_sentence(i, 'Arg1')\n",
    "        re.append(arg)\n",
    "re = Counter(re).most_common(2)\n",
    "print('Explicit')\n",
    "print('arg1')\n",
    "print([(o[0], o[1]/total) for o in re])\n",
    "\n",
    "\n",
    "re = []\n",
    "total = 0\n",
    "for i in range(len(pdtb3.parse_data)):\n",
    "    if pdtb3.parse_data[i]['Type'] == 'Explicit':\n",
    "        total += 1\n",
    "        arg = pdtb3.arg_is_whole_sentence(i, 'Arg2')\n",
    "        re.append(arg)\n",
    "re = Counter(re).most_common(2)\n",
    "print('arg2')\n",
    "print([(o[0], o[1]/total) for o in re])\n",
    "\n",
    "\n",
    "print()\n",
    "print()\n",
    "print()\n",
    "re = []\n",
    "total = 0\n",
    "for i in range(len(pdtb3.parse_data)):\n",
    "    if pdtb3.parse_data[i]['Type'] == 'Implicit':\n",
    "        total += 1\n",
    "        arg = pdtb3.arg_is_whole_sentence(i, 'Arg1')\n",
    "        re.append(arg)\n",
    "re = Counter(re).most_common(2)\n",
    "print('Implicit')\n",
    "print('arg1')\n",
    "print([(o[0], o[1]/total) for o in re])\n",
    "\n",
    "\n",
    "re = []\n",
    "total = 0\n",
    "for i in range(len(pdtb3.parse_data)):\n",
    "    if pdtb3.parse_data[i]['Type'] == 'Implicit':\n",
    "        total += 1\n",
    "        arg = pdtb3.arg_is_whole_sentence(i, 'Arg2')\n",
    "        re.append(arg)\n",
    "re = Counter(re).most_common(2)\n",
    "print('arg2')\n",
    "print([(o[0], o[1]/total) for o in re])"
   ]
  },
  {
   "cell_type": "markdown",
   "metadata": {},
   "source": [
    "## for previous sentence case, arg span is whole sentence"
   ]
  },
  {
   "cell_type": "code",
   "execution_count": 6,
   "metadata": {},
   "outputs": [
    {
     "name": "stdout",
     "output_type": "stream",
     "text": [
      "Explicit\n",
      "arg1\n",
      "[(True, 0.6059503424657534), (False, 0.3940496575342466)]\n",
      "[(True, 0.05926313585932594), (False, 0.03853883190286791)]\n",
      "\n",
      "\n",
      "\n",
      "Implicit\n",
      "arg1\n",
      "[(True, 0.6241747079735906), (False, 0.37582529202640935)]\n",
      "[(True, 0.18009210801758427), (False, 0.10843625706510363)]\n"
     ]
    }
   ],
   "source": [
    "re = []\n",
    "total = 0\n",
    "for i in range(len(pdtb3.parse_data)):\n",
    "    arg1 = pdtb3.get_arg_sent_id(i, 'Arg1')\n",
    "    arg2 = pdtb3.get_arg_sent_id(i, 'Arg2')\n",
    "    if pdtb3.parse_data[i]['Type'] == 'Explicit' and arg1[0]==arg2[0]-1:\n",
    "        total += 1\n",
    "        arg = pdtb3.arg_is_whole_sentence(i, 'Arg1')\n",
    "        re.append(arg)\n",
    "re = Counter(re).most_common(2)\n",
    "print('Explicit')\n",
    "print('arg1')\n",
    "print([(o[0], o[1]/total) for o in re])\n",
    "print([(o[0], o[1]/len(pdtb3.parse_data)) for o in re])\n",
    "\n",
    "\n",
    "\n",
    "\n",
    "print()\n",
    "print()\n",
    "print()\n",
    "\n",
    "\n",
    "\n",
    "\n",
    "re = []\n",
    "total = 0\n",
    "for i in range(len(pdtb3.parse_data)):\n",
    "    arg1 = pdtb3.get_arg_sent_id(i, 'Arg1')\n",
    "    arg2 = pdtb3.get_arg_sent_id(i, 'Arg2')\n",
    "    if pdtb3.parse_data[i]['Type'] == 'Implicit' and arg1[0]==arg2[0]-1:\n",
    "        total += 1\n",
    "        arg = pdtb3.arg_is_whole_sentence(i, 'Arg1')\n",
    "        re.append(arg)\n",
    "re = Counter(re).most_common(2)\n",
    "print('Implicit')\n",
    "print('arg1')\n",
    "print([(o[0], o[1]/total) for o in re])\n",
    "print([(o[0], o[1]/len(pdtb3.parse_data)) for o in re])"
   ]
  },
  {
   "cell_type": "markdown",
   "metadata": {},
   "source": [
    "## print some examples out"
   ]
  },
  {
   "cell_type": "code",
   "execution_count": 5,
   "metadata": {},
   "outputs": [],
   "source": [
    "re = []\n",
    "total = 0\n",
    "for i in range(1000):\n",
    "    arg1 = pdtb3.get_arg_sent_id(i, 'Arg1')\n",
    "    arg2 = pdtb3.get_arg_sent_id(i, 'Arg2')\n",
    "    if pdtb3.parse_data[i]['Type'] == 'Explicit' and arg1[0]==arg2[0]-1:\n",
    "        total += 1\n",
    "        arg = pdtb3.arg_is_whole_sentence(i, 'Arg1')\n",
    "        if not arg:\n",
    "#             print(pdtb3.get_highlighted_parsetree(i, v=True))\n",
    "            pass\n"
   ]
  },
  {
   "cell_type": "markdown",
   "metadata": {},
   "source": [
    "## Relative position for arg1 and arg2"
   ]
  },
  {
   "cell_type": "code",
   "execution_count": 16,
   "metadata": {},
   "outputs": [
    {
     "name": "stdout",
     "output_type": "stream",
     "text": [
      "Explicit\n",
      "[(0, 0.6969556339335438), (-1, 0.2118990161499907), (-2, 0.0292370521626137)]\n",
      "[(0, 0.31438141092736027), (-1, 0.09558300188402763), (-2, 0.013188193426836928)]\n",
      "\n",
      "\n",
      "\n",
      "Implicit\n",
      "[(-1, 0.6898776304336696), (0, 0.2808867953509805), (-2, 5.120065536838871e-05)]\n",
      "[(-1, 0.28205987021142975), (0, 0.11484195101528155), (-2, 2.0933640360058613e-05)]\n"
     ]
    }
   ],
   "source": [
    "dis1 = []\n",
    "total = 0\n",
    "for i in range(len(pdtb3.parse_data)):\n",
    "    if pdtb3.parse_data[i]['Type'] == 'Explicit':\n",
    "        total += 1\n",
    "        arg1 = pdtb3.get_arg_sent_id(i, 'Arg1')\n",
    "        arg2 = pdtb3.get_arg_sent_id(i, 'Arg2')\n",
    "        if len(arg1) == 1 and len(arg2)==1:\n",
    "            dis1.append(arg1[0] - arg2[0])\n",
    "dis1 = Counter(dis1).most_common(3)\n",
    "print('Explicit')\n",
    "print([(o[0], o[1]/total) for o in dis1])\n",
    "print([(o[0], o[1]/len(pdtb3.parse_data)) for o in dis1])\n",
    "print()\n",
    "print()\n",
    "print()\n",
    "\n",
    "dis1 = []\n",
    "total = 0\n",
    "for i in range(len(pdtb3.parse_data)):\n",
    "    if pdtb3.parse_data[i]['Type'] == 'Implicit':\n",
    "        total += 1\n",
    "        arg1 = pdtb3.get_arg_sent_id(i, 'Arg1')\n",
    "        arg2 = pdtb3.get_arg_sent_id(i, 'Arg2')\n",
    "        if len(arg1) == 1 and len(arg2)==1:\n",
    "            dis1.append(arg1[0] - arg2[0])\n",
    "dis1 = Counter(dis1).most_common(3)\n",
    "print('Implicit')\n",
    "print([(o[0], o[1]/total) for o in dis1])\n",
    "print([(o[0], o[1]/len(pdtb3.parse_data)) for o in dis1])"
   ]
  },
  {
   "cell_type": "code",
   "execution_count": null,
   "metadata": {},
   "outputs": [],
   "source": []
  }
 ],
 "metadata": {
  "kernelspec": {
   "display_name": "Python 3",
   "language": "python",
   "name": "python3"
  },
  "language_info": {
   "codemirror_mode": {
    "name": "ipython",
    "version": 3
   },
   "file_extension": ".py",
   "mimetype": "text/x-python",
   "name": "python",
   "nbconvert_exporter": "python",
   "pygments_lexer": "ipython3",
   "version": "3.7.0"
  }
 },
 "nbformat": 4,
 "nbformat_minor": 2
}
