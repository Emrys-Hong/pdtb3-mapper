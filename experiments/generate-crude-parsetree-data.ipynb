{
 "cells": [
  {
   "cell_type": "code",
   "execution_count": 25,
   "metadata": {},
   "outputs": [],
   "source": [
    "import sys\n",
    "sys.path.append('..')\n",
    "from api.api import PDTB\n",
    "import re\n",
    "from ete3 import Tree\n",
    "from collections import Counter\n",
    "from enum import Enum\n",
    "from api.syntax_tree import Syntax_tree"
   ]
  },
  {
   "cell_type": "code",
   "execution_count": 21,
   "metadata": {},
   "outputs": [],
   "source": [
    "# pdtb2 = PDTB('/home/pengfei/data/pdtb_v2/all/conll/')\n",
    "pdtb3 = PDTB('/home/pengfei/data/pdtb3/all/conll/')"
   ]
  },
  {
   "cell_type": "code",
   "execution_count": 3,
   "metadata": {},
   "outputs": [
    {
     "data": {
      "text/plain": [
       "['(S )', '(S )']"
      ]
     },
     "execution_count": 3,
     "metadata": {},
     "output_type": "execute_result"
    }
   ],
   "source": [
    "i=15\n",
    "pdtb3.get_simplified_parsetree_string(i)"
   ]
  },
  {
   "cell_type": "code",
   "execution_count": 11,
   "metadata": {},
   "outputs": [],
   "source": [
    "syntax_trees, _ = pdtb3.get_highlighted_parsetree_with_word(15)"
   ]
  },
  {
   "cell_type": "code",
   "execution_count": 48,
   "metadata": {},
   "outputs": [],
   "source": [
    "class ProcessTree:\n",
    "    def __init__(self):\n",
    "        pass\n",
    "    \n",
    "    def get_simplified_tree_string(self, tree):\n",
    "        tree_name = self.simplify_tree_with_word(tree)\n",
    "        tree = self.more_simplify_tree_with_word(tree)\n",
    "        tree = self.most_simplify_tree_with_word(tree)\n",
    "        tree_string = self.tree2string(tree)\n",
    "        sentence = ' '.join([o.split()[-1] for o in re.findall(r'\\((.+?)\\)', tree_string)])\n",
    "        return tree_string, sentence\n",
    "    \n",
    "    \n",
    "    def simplify_tree_with_word(self, tree):\n",
    "        temp = []\n",
    "        tag = tree.name.split()[0]\n",
    "        if tag in ['Arg1', 'Arg2', 'none', 'Conn']:\n",
    "            return tree.name\n",
    "        for c in tree.children:\n",
    "            child_name = self.simplify_tree_with_word(c)\n",
    "            temp.append(child_name.split()[0])\n",
    "        if len(set(temp)) == 1:\n",
    "            tree.name = temp[0] + ' ' + ' '.join([c.name[4:] for c in tree.children])\n",
    "            tree.children = []\n",
    "        return tree.name\n",
    "\n",
    "\n",
    "    def more_simplify_tree_with_word(self, tree):\n",
    "        temp = []\n",
    "        # simplify among siblings\n",
    "        prev_c = None\n",
    "        for c in tree.children:\n",
    "            c = self.more_simplify_tree_with_word(c)\n",
    "            if prev_c == None:\n",
    "                temp.append(c)\n",
    "                prev_c = c\n",
    "                continue\n",
    "            if c.name.split()[0] != prev_c.name.split()[0]:\n",
    "                temp.append(c)\n",
    "                prev_c = c\n",
    "            else:\n",
    "                prev_c.name = prev_c.name + c.name[4:]\n",
    "        tree.children = temp\n",
    "        return tree\n",
    "\n",
    "    def most_simplify_tree_with_word(self, tree):\n",
    "        for i, c in enumerate(tree.children):\n",
    "            tree.children[i] = self.most_simplify_tree_with_word(c)\n",
    "        if len(tree.children) == 2:\n",
    "            # for left branch\n",
    "            if len(tree.children[1].children) >= 1:\n",
    "                if tree.children[1].children[0].name.split()[0] == tree.children[0].name.split()[0]:\n",
    "                    downup = tree.children[1].children[0]\n",
    "                    downup.name = downup.name.split()[0] + tree.children[0].name[4:] + downup.name[4:]\n",
    "                    tree = tree.children[1]\n",
    "            # for right branch\n",
    "            if len(tree.children[0].children) >= 1:\n",
    "                if tree.children[0].children[1].name.split()[0] == tree.children[1].name.split()[0]:\n",
    "                    updown = tree.children[0].children[1]\n",
    "                    updown.name = updown.name + tree.children[1].name[4:]\n",
    "                    tree = tree.children[0]\n",
    "        tree = self.more_simplify_tree_with_word(tree)\n",
    "        return tree\n",
    "\n",
    "\n",
    "    def tree2string(self, tree):\n",
    "        tree_string = \"\"\n",
    "        if len(tree.children) == 0:\n",
    "            return ''.join([\"(\" + tree.name.split()[0] + \" \" + o + \")\" for o in tree.name.split()[1:]])\n",
    "        tree_string += \"(\" + tree.name + \" \"\n",
    "        for c in tree.children:\n",
    "            tree_string += self.tree2string(c)\n",
    "        tree_string += \")\"\n",
    "        return tree_string"
   ]
  },
  {
   "cell_type": "code",
   "execution_count": 49,
   "metadata": {},
   "outputs": [],
   "source": [
    "pt = ProcessTree()"
   ]
  },
  {
   "cell_type": "code",
   "execution_count": 50,
   "metadata": {},
   "outputs": [
    {
     "name": "stdout",
     "output_type": "stream",
     "text": [
      "SINV\n",
      "(SINV (none ``)(S (Arg1 I)(Arg1 have)(Arg1 every)(Arg1 intention)(Arg1 of)(Arg1 making)(Arg1 this)(Arg1 the)(Arg1 best)(Arg1 possible)(Arg1 show)(Arg2 and)(Arg2 having)(Arg2 it)(Arg2 run)(Arg2 one)(Arg2 hour)(Arg2 is)(Arg2 the)(Arg2 best)(Arg2 way)(Arg2 to)(Arg2 it))(none *COMMA*)(none '')(none said)(none Rod)(none Perth)(none *COMMA*)(none who)(none was)(none named)(none vice)(none president)(none of)(none late)(none night)(none entertainment)(none in)(none August)(none .))\n"
     ]
    }
   ],
   "source": [
    "ret = []\n",
    "pdtb3.parse_data = pdtb3.parse_data_test\n",
    "for i in range(len(pdtb3.parse_data)):\n",
    "    if pdtb3.get_arg_sent_id(i, 'Arg1') == pdtb3.get_arg_sent_id(i, 'Arg2') and len(pdtb3.get_arg_sent_id(i, 'Arg1')) == 1:\n",
    "        syntax_trees, _ = pdtb3.get_highlighted_parsetree_with_word(i)\n",
    "        for s in syntax_trees:\n",
    "            tree_string, string = pt.get_simplified_tree_string(s.tree)\n",
    "            print(tree_string)\n",
    "            ret.append(tree_string)\n",
    "        break"
   ]
  },
  {
   "cell_type": "code",
   "execution_count": 23,
   "metadata": {},
   "outputs": [],
   "source": [
    "def write(filename, folder):\n",
    "    with open(filename, 'w') as f:\n",
    "        for o in folder:\n",
    "            f.write(o + '\\n')\n",
    "\n",
    "write('test.txt', ret)"
   ]
  },
  {
   "cell_type": "code",
   "execution_count": 26,
   "metadata": {},
   "outputs": [
    {
     "name": "stdout",
     "output_type": "stream",
     "text": [
      "\n",
      "    /none-``\n",
      "   |\n",
      "   |   /Arg1-I\n",
      "   |  |\n",
      "   |  |-Arg1-have\n",
      "   |  |\n",
      "   |  |-Arg1-every\n",
      "   |  |\n",
      "   |  |-Arg1-intention\n",
      "   |  |\n",
      "   |  |-Arg1-of\n",
      "   |  |\n",
      "   |  |-Arg1-making\n",
      "   |  |\n",
      "   |  |-Arg1-this\n",
      "   |  |\n",
      "   |  |-Arg1-the\n",
      "   |  |\n",
      "   |  |-Arg1-best\n",
      "   |  |\n",
      "   |  |-Arg1-possible\n",
      "   |  |\n",
      "   |  |-Arg1-show\n",
      "   |  |\n",
      "   |-S|-Arg2-and\n",
      "   |  |\n",
      "   |  |-Arg2-having\n",
      "   |  |\n",
      "   |  |-Arg2-it\n",
      "   |  |\n",
      "   |  |-Arg2-run\n",
      "   |  |\n",
      "   |  |-Arg2-one\n",
      "   |  |\n",
      "   |  |-Arg2-hour\n",
      "   |  |\n",
      "   |  |-Arg2-is\n",
      "   |  |\n",
      "   |  |-Arg2-the\n",
      "   |  |\n",
      "   |  |-Arg2-best\n",
      "-SINV |\n",
      "   |  |-Arg2-way\n",
      "   |  |\n",
      "   |  |-Arg2-to\n",
      "   |  |\n",
      "   |   \\Arg2-it\n",
      "   |\n",
      "   |-none-*COMMA*\n",
      "   |\n",
      "   |-none-''\n",
      "   |\n",
      "   |-none-said\n",
      "   |\n",
      "   |-none-Rod\n",
      "   |\n",
      "   |-none-Perth\n",
      "   |\n",
      "   |-none-*COMMA*\n",
      "   |\n",
      "   |-none-who\n",
      "   |\n",
      "   |-none-was\n",
      "   |\n",
      "   |-none-named\n",
      "   |\n",
      "   |-none-vice\n",
      "   |\n",
      "   |-none-president\n",
      "   |\n",
      "   |-none-of\n",
      "   |\n",
      "   |-none-late\n",
      "   |\n",
      "   |-none-night\n",
      "   |\n",
      "   |-none-entertainment\n",
      "   |\n",
      "   |-none-in\n",
      "   |\n",
      "   |-none-August\n",
      "   |\n",
      "    \\none-.\n"
     ]
    }
   ],
   "source": [
    "Syntax_tree(ret[0]).print_tree()"
   ]
  },
  {
   "cell_type": "markdown",
   "metadata": {},
   "source": [
    "## TODO:\n",
    "1. the label must be arg1 arg2 conn or none then able to merge, if the label is constituent tree label. do not merge.\n",
    "2. what if parent have label and become child in most simplified tree function"
   ]
  }
 ],
 "metadata": {
  "kernelspec": {
   "display_name": "Python 3",
   "language": "python",
   "name": "python3"
  },
  "language_info": {
   "codemirror_mode": {
    "name": "ipython",
    "version": 3
   },
   "file_extension": ".py",
   "mimetype": "text/x-python",
   "name": "python",
   "nbconvert_exporter": "python",
   "pygments_lexer": "ipython3",
   "version": "3.7.3"
  }
 },
 "nbformat": 4,
 "nbformat_minor": 2
}
