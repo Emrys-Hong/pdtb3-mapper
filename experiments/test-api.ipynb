{
 "cells": [
  {
   "cell_type": "code",
   "execution_count": 1,
   "metadata": {},
   "outputs": [],
   "source": [
    "import sys\n",
    "sys.path.append('..')\n",
    "from api.api import PDTB"
   ]
  },
  {
   "cell_type": "code",
   "execution_count": 2,
   "metadata": {},
   "outputs": [],
   "source": [
    "pdtb2 = PDTB('/home/pengfei/data/pdtb_v2/all/conll/')"
   ]
  },
  {
   "cell_type": "code",
   "execution_count": 5,
   "metadata": {},
   "outputs": [
    {
     "name": "stdout",
     "output_type": "stream",
     "text": [
      "\n",
      "      /- /-\u001b[91mRolls-Royce\u001b[0m\n",
      "     |\n",
      "     |-- /-\u001b[91mMotor\u001b[0m\n",
      "   /-|\n",
      "  |  |-- /-\u001b[91mCars\u001b[0m\n",
      "  |  |\n",
      "  |   \\- /-\u001b[91mInc.\u001b[0m\n",
      "  |\n",
      "  |   /- /-\u001b[91msaid\u001b[0m\n",
      "  |  |\n",
      "  |--|      /- /- /-\u001b[91mit\u001b[0m\n",
      "  |  |     |\n",
      "  |  |     |   /- /-\u001b[91mexpects\u001b[0m\n",
      "  |   \\- /-|  |\n",
      "  |        |  |      /- /-\u001b[91mits\u001b[0m\n",
      "  |        |  |     |\n",
      "  |         \\-|   /-|-- /-\u001b[91mU.S.\u001b[0m\n",
      "  |           |  |  |\n",
      "  |           |  |   \\- /-\u001b[91msales\u001b[0m\n",
      "  |           |  |\n",
      "--|            \\-|   /- /-\u001b[91mto\u001b[0m\n",
      "  |              |  |\n",
      "  |              |  |   /- /-\u001b[91mremain\u001b[0m\n",
      "  |              |  |  |\n",
      "  |               \\-|  |-- /- /-\u001b[91msteady\u001b[0m\n",
      "  |                 |  |\n",
      "  |                 |  |   /- /-\u001b[91mat\u001b[0m\n",
      "  |                 |  |  |\n",
      "  |                  \\-|--|      /- /-\u001b[91mabout\u001b[0m\n",
      "  |                    |  |   /-|\n",
      "  |                    |   \\-|   \\- /-\u001b[91m1*COMMA*200\u001b[0m\n",
      "  |                    |     |\n",
      "  |                    |      \\- /-\u001b[91mcars\u001b[0m\n",
      "  |                    |\n",
      "  |                    |   /- /-\u001b[91min\u001b[0m\n",
      "  |                     \\-|\n",
      "  |                        \\- /- /-\u001b[91m1990\u001b[0m\n",
      "  |\n",
      "   \\- /-.\n",
      "\n",
      "      /- /-\u001b[94mThe\u001b[0m\n",
      "     |\n",
      "     |-- /-\u001b[94mluxury\u001b[0m\n",
      "   /-|\n",
      "  |  |-- /-\u001b[94mauto\u001b[0m\n",
      "  |  |\n",
      "  |   \\- /-\u001b[94mmaker\u001b[0m\n",
      "  |\n",
      "  |   /- /-\u001b[94mlast\u001b[0m\n",
      "--|--|\n",
      "  |   \\- /-\u001b[94myear\u001b[0m\n",
      "  |\n",
      "  |   /- /-\u001b[94msold\u001b[0m\n",
      "  |  |\n",
      "  |  |   /- /-\u001b[94m1*COMMA*214\u001b[0m\n",
      "   \\-|--|\n",
      "     |   \\- /-\u001b[94mcars\u001b[0m\n",
      "     |\n",
      "     |   /- /-\u001b[94min\u001b[0m\n",
      "      \\-|\n",
      "        |   /- /-\u001b[94mthe\u001b[0m\n",
      "         \\-|\n",
      "            \\- /-U.S.\n",
      "\n"
     ]
    }
   ],
   "source": [
    "print(pdtb2.get_highlighted_parsetree(1))"
   ]
  },
  {
   "cell_type": "code",
   "execution_count": null,
   "metadata": {},
   "outputs": [],
   "source": []
  }
 ],
 "metadata": {
  "kernelspec": {
   "display_name": "Python 3",
   "language": "python",
   "name": "python3"
  },
  "language_info": {
   "codemirror_mode": {
    "name": "ipython",
    "version": 3
   },
   "file_extension": ".py",
   "mimetype": "text/x-python",
   "name": "python",
   "nbconvert_exporter": "python",
   "pygments_lexer": "ipython3",
   "version": "3.7.0"
  }
 },
 "nbformat": 4,
 "nbformat_minor": 2
}
